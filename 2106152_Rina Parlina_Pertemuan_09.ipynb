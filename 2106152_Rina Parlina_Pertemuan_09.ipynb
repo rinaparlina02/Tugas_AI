{
  "nbformat": 4,
  "nbformat_minor": 0,
  "metadata": {
    "colab": {
      "provenance": []
    },
    "kernelspec": {
      "name": "python3",
      "display_name": "Python 3"
    },
    "language_info": {
      "name": "python"
    }
  },
  "cells": [
    {
      "cell_type": "code",
      "execution_count": 4,
      "metadata": {
        "colab": {
          "base_uri": "https://localhost:8080/"
        },
        "id": "85ffMR9_opY2",
        "outputId": "dea57f5d-2705-4ee4-eb48-f6af4f54e8ea"
      },
      "outputs": [
        {
          "output_type": "stream",
          "name": "stdout",
          "text": [
            "    Outlook Temperature Humidity  Windy Play\n",
            "0     sunny         hot     high  False   no\n",
            "1     sunny         hot     high   True   no\n",
            "2  overcast         hot     high  False  yes\n",
            "3     rainy        mild     high  False  yes\n",
            "4     rainy        cool   normal  False  yes\n"
          ]
        }
      ],
      "source": [
        "import pandas as pd\n",
        "\n",
        "# import dataset\n",
        "dataset = pd.read_csv(\"golf_df.csv\")\n",
        "\n",
        "# tampilkan 5 baris pertama dataset\n",
        "print(dataset.head())"
      ]
    },
    {
      "cell_type": "code",
      "source": [
        "# cek jumlah missing values pada kolom\n",
        "print(dataset['Windy'].isna().sum())\n",
        "\n",
        "# mengganti missing values pada kolom dengan nilai baru\n",
        "dataset['Windy'].fillna('N', inplace=True)\n",
        "\n",
        "# cek kembali jumlah missing values pada kolom\n",
        "print(dataset['Windy'].isna().sum())"
      ],
      "metadata": {
        "colab": {
          "base_uri": "https://localhost:8080/"
        },
        "id": "MrsBrd48vy1-",
        "outputId": "5eb7a392-7ead-4a20-f8e7-5cdf127bb606"
      },
      "execution_count": 8,
      "outputs": [
        {
          "output_type": "stream",
          "name": "stdout",
          "text": [
            "0\n",
            "0\n"
          ]
        }
      ]
    },
    {
      "cell_type": "code",
      "source": [
        "# cek jumlah missing values pada kolom\n",
        "print(dataset['Play'].isna().sum())\n",
        "\n",
        "# mengganti missing values pada kolom dengan nilai baru\n",
        "dataset['Play'].fillna('N', inplace=True)\n",
        "\n",
        "# cek kembali jumlah missing values pada kolom\n",
        "print(dataset['Play'].isna().sum())"
      ],
      "metadata": {
        "colab": {
          "base_uri": "https://localhost:8080/"
        },
        "id": "4IKLpaw6wvW2",
        "outputId": "7ee48f9c-5d20-40e3-cf16-8b94fbdf2d22"
      },
      "execution_count": 9,
      "outputs": [
        {
          "output_type": "stream",
          "name": "stdout",
          "text": [
            "0\n",
            "0\n"
          ]
        }
      ]
    },
    {
      "cell_type": "code",
      "source": [
        "# mengubah nilai yang tidak konsisten pada atribut\n",
        "dataset['Play'].replace(['99'], ['N'], inplace=True)\n",
        "\n",
        "# tampilkan hasil perubahan\n",
        "print(dataset['Play'].value_counts())"
      ],
      "metadata": {
        "colab": {
          "base_uri": "https://localhost:8080/"
        },
        "id": "LtdjAlEAxJtL",
        "outputId": "5e4afbec-b561-41f9-cbfc-024ea5666e60"
      },
      "execution_count": 10,
      "outputs": [
        {
          "output_type": "stream",
          "name": "stdout",
          "text": [
            "yes    9\n",
            "no     5\n",
            "Name: Play, dtype: int64\n"
          ]
        }
      ]
    }
  ]
}