{
  "nbformat": 4,
  "nbformat_minor": 0,
  "metadata": {
    "colab": {
      "provenance": []
    },
    "kernelspec": {
      "name": "python3",
      "display_name": "Python 3"
    },
    "language_info": {
      "name": "python"
    }
  },
  "cells": [
    {
      "cell_type": "markdown",
      "source": [
        "Rina Parlina\n",
        "2106152\n",
        "Teknik Informatika - D\n",
        "\n",
        "Pertemuan 02\n",
        "Praktikum Kecerdasan Buatan"
      ],
      "metadata": {
        "id": "gV-xKaCbxmfu"
      }
    },
    {
      "cell_type": "markdown",
      "source": [
        "1. Breadth First Searching (BFS)\n",
        "\n",
        "Buat Fungsi BFS"
      ],
      "metadata": {
        "id": "pek50hgVxqRW"
      }
    },
    {
      "cell_type": "code",
      "source": [
        "def bfs (graph, source) :\n",
        "\n",
        "  # variabel : set(unik); list(antrian); integer.\n",
        "  visited = set() #Track node yang sudah dikunjungi\n",
        "  bfs_traversal = list() #hasil dari bfs\n",
        "  queue = list()\n",
        "\n",
        "  # masukan root node ke antrian dan tandai node tersebut sudah dikunjungi\n",
        "  queue.append(source) #method append untuk menambahkan list\n",
        "  visited.add(source) \n",
        "\n",
        "  #lakukan perulangan hingga antrian kosong\n",
        "  while queue:\n",
        "    #keluarkan node dari depan antrian dan masukan kedalam bfs_traversal\n",
        "    current_node = queue.pop(0)\n",
        "    bfs_traversal.append(current_node)\n",
        "\n",
        "    #lakukan pengecekan semua node terdekati dari current_node\n",
        "    for neighbour_node in graph[current_node]:\n",
        "      # jika node tetangga belum dikunjungi, masukkan kedalam antrian dan tandai sudah dikunungi\n",
        "      if neighbour_node not in visited:\n",
        "        queue.append(neighbour_node)\n",
        "        visited.add(neighbour_node)\n",
        "\n",
        "  return bfs_traversal\n",
        "\n",
        "def main():\n",
        "  graph = {\n",
        "      'A' : ['B', 'C'],\n",
        "      'B' : ['A', 'D', 'E'],\n",
        "      'C' : ['A', 'F', 'G'],\n",
        "      'D' : ['B'],\n",
        "      'E' : ['B'],\n",
        "      'F' : ['C'],\n",
        "      'G' : ['C']\n",
        "\n",
        "  }\n",
        "\n",
        "  bfs_traversal = bfs(graph, 'B') # strating dimana\n",
        "  print(f\"BFS : {bfs_traversal}\")\n",
        "\n",
        "if __name__=='__main__':\n",
        "  main()"
      ],
      "metadata": {
        "colab": {
          "base_uri": "https://localhost:8080/"
        },
        "id": "Ik1cSma9Jekw",
        "outputId": "299e3ab7-22fb-4161-a285-97a71df44625"
      },
      "execution_count": null,
      "outputs": [
        {
          "output_type": "stream",
          "name": "stdout",
          "text": [
            "BFS : ['B', 'A', 'D', 'E', 'C', 'F', 'G']\n"
          ]
        }
      ]
    },
    {
      "cell_type": "code",
      "source": [
        "main()"
      ],
      "metadata": {
        "colab": {
          "base_uri": "https://localhost:8080/"
        },
        "id": "bGwHfh0jO4Tk",
        "outputId": "9591b9f0-4dc6-4473-b6d0-d9fe220d8853"
      },
      "execution_count": null,
      "outputs": [
        {
          "output_type": "stream",
          "name": "stdout",
          "text": [
            "BFS : ['B', 'A', 'D', 'E', 'C', 'F', 'G']\n"
          ]
        }
      ]
    },
    {
      "cell_type": "markdown",
      "source": [
        "2. Depth First Search (DFS)\n",
        "\n",
        "Buat fungsi DFS"
      ],
      "metadata": {
        "id": "WBOmcnmCPaDV"
      }
    },
    {
      "cell_type": "code",
      "source": [
        "def dfs(graph, source, visited, dfs_traversal):\n",
        "  if source not in visited:\n",
        "    dfs_traversal.append(source)\n",
        "    visited.add(source)\n",
        "\n",
        "    for neighbor_node in graph[source]:\n",
        "      dfs(graph, neighbor_node, visited, dfs_traversal)\n",
        "\n",
        "  return dfs_traversal"
      ],
      "metadata": {
        "id": "aJygdhsDPhYM"
      },
      "execution_count": null,
      "outputs": []
    },
    {
      "cell_type": "markdown",
      "source": [
        "Trigger fungsi DFS"
      ],
      "metadata": {
        "id": "52DAmOTqTiuK"
      }
    },
    {
      "cell_type": "code",
      "source": [
        "def main():\n",
        "  visited = set()\n",
        "  dfs_traversal = list()\n",
        "\n",
        "  graph = {\n",
        "      'A' : ['B', 'C'],\n",
        "      'B' : ['D', 'E'],\n",
        "      'C' : ['F', 'G'],\n",
        "      'D' : [],\n",
        "      'E' : [],\n",
        "      'F' : [],\n",
        "      'G' : []\n",
        "  }\n",
        "\n",
        "  dfs_traversal = dfs(graph, 'A', visited, dfs_traversal)\n",
        "  print(f\"DFS: {dfs_traversal}\")\n",
        "\n",
        "if __name__==\"__main__\":\n",
        "  main()"
      ],
      "metadata": {
        "colab": {
          "base_uri": "https://localhost:8080/"
        },
        "id": "1aJWhrrsTmgr",
        "outputId": "f2256bed-89ff-4914-c544-c14a0d227af9"
      },
      "execution_count": null,
      "outputs": [
        {
          "output_type": "stream",
          "name": "stdout",
          "text": [
            "DFS: ['A', 'B', 'D', 'E', 'C', 'F', 'G']\n"
          ]
        }
      ]
    },
    {
      "cell_type": "markdown",
      "source": [
        "3. Uniform Cost Search (UCS)"
      ],
      "metadata": {
        "id": "onWCCD16WnrU"
      }
    },
    {
      "cell_type": "code",
      "source": [
        "# Python3 implementation of above approach\n",
        "\n",
        "# returns the minimum cost in a vector( if\n",
        "# there are multiple goal states)\n",
        "def uniform_cost_search(goal, start):\n",
        "\t\n",
        "\t# minimum cost upto\n",
        "\t# goal state from starting\n",
        "\tglobal graph,cost\n",
        "\tanswer = []\n",
        "\n",
        "\t# create a priority queue\n",
        "\tqueue = []\n",
        "\n",
        "\t# set the answer vector to max value\n",
        "\tfor i in range(len(goal)):\n",
        "\t\tanswer.append(10**8)\n",
        "\n",
        "\t# insert the starting index\n",
        "\tqueue.append([0, start])\n",
        "\n",
        "\t# map to store visited node\n",
        "\tvisited = {}\n",
        "\n",
        "\t# count\n",
        "\tcount = 0\n",
        "\n",
        "\t# while the queue is not empty\n",
        "\twhile (len(queue) > 0):\n",
        "\n",
        "\t\t# get the top element of the\n",
        "\t\tqueue = sorted(queue)\n",
        "\t\tp = queue[-1]\n",
        "\n",
        "\t\t# pop the element\n",
        "\t\tdel queue[-1]\n",
        "\n",
        "\t\t# get the original value\n",
        "\t\tp[0] *= -1\n",
        "\n",
        "\t\t# check if the element is part of\n",
        "\t\t# the goal list\n",
        "\t\tif (p[1] in goal):\n",
        "\n",
        "\t\t\t# get the position\n",
        "\t\t\tindex = goal.index(p[1])\n",
        "\n",
        "\t\t\t# if a new goal is reached\n",
        "\t\t\tif (answer[index] == 10**8):\n",
        "\t\t\t\tcount += 1\n",
        "\n",
        "\t\t\t# if the cost is less\n",
        "\t\t\tif (answer[index] > p[0]):\n",
        "\t\t\t\tanswer[index] = p[0]\n",
        "\n",
        "\t\t\t# pop the element\n",
        "\t\t\tdel queue[-1]\n",
        "\n",
        "\t\t\tqueue = sorted(queue)\n",
        "\t\t\tif (count == len(goal)):\n",
        "\t\t\t\treturn answer\n",
        "\n",
        "\t\t# check for the non visited nodes\n",
        "\t\t# which are adjacent to present node\n",
        "\t\tif (p[1] not in visited):\n",
        "\t\t\tfor i in range(len(graph[p[1]])):\n",
        "\n",
        "\t\t\t\t# value is multiplied by -1 so that\n",
        "\t\t\t\t# least priority is at the top\n",
        "\t\t\t\tqueue.append( [(p[0] + cost[(p[1], graph[p[1]][i])])* -1, graph[p[1]][i]])\n",
        "\n",
        "\t\t# mark as visited\n",
        "\t\tvisited[p[1]] = 1\n",
        "\n",
        "\treturn answer\n",
        "\n",
        "# main function\n",
        "if __name__ == '__main__':\n",
        "\t\n",
        "\t# create the graph\n",
        "\tgraph,cost = [[] for i in range(8)],{}\n",
        "\n",
        "\t# add edge\n",
        "\tgraph[0].append(1)\n",
        "\tgraph[0].append(3)\n",
        "\tgraph[3].append(1)\n",
        "\tgraph[3].append(6)\n",
        "\tgraph[3].append(4)\n",
        "\tgraph[1].append(6)\n",
        "\tgraph[4].append(2)\n",
        "\tgraph[4].append(5)\n",
        "\tgraph[2].append(1)\n",
        "\tgraph[5].append(2)\n",
        "\tgraph[5].append(6)\n",
        "\tgraph[6].append(4)\n",
        "\n",
        "\t# add the cost\n",
        "\tcost[(0, 1)] = 2\n",
        "\tcost[(0, 3)] = 5\n",
        "\tcost[(1, 6)] = 1\n",
        "\tcost[(3, 1)] = 5\n",
        "\tcost[(3, 6)] = 6\n",
        "\tcost[(3, 4)] = 2\n",
        "\tcost[(2, 1)] = 4\n",
        "\tcost[(4, 2)] = 4\n",
        "\tcost[(4, 5)] = 3\n",
        "\tcost[(5, 2)] = 6\n",
        "\tcost[(5, 6)] = 3\n",
        "\tcost[(6, 4)] = 7\n",
        "\n",
        "\t# goal state\n",
        "\tgoal = []\n",
        "\n",
        "\t# set the goal\n",
        "\t# there can be multiple goal states\n",
        "\tgoal.append(6)\n",
        "\n",
        "\t# get the answer\n",
        "\tanswer = uniform_cost_search(goal, 0)\n",
        "\n",
        "\t# print the answer\n",
        "\tprint(\"Minimum cost from 0 to 6 is = \",answer[0])\n"
      ],
      "metadata": {
        "colab": {
          "base_uri": "https://localhost:8080/"
        },
        "id": "cuiJXVMy2DBX",
        "outputId": "398dfecd-388c-4199-de11-03527f2bee32"
      },
      "execution_count": 8,
      "outputs": [
        {
          "output_type": "stream",
          "name": "stdout",
          "text": [
            "Minimum cost from 0 to 6 is =  3\n"
          ]
        }
      ]
    },
    {
      "cell_type": "markdown",
      "source": [
        "4. Interative Deepening Depth First Search"
      ],
      "metadata": {
        "id": "8raiXrND-0eH"
      }
    },
    {
      "cell_type": "code",
      "source": [
        "# python program to print DFS traversal from a given\n",
        "\n",
        "# given graph\n",
        "\n",
        "from collections import defaultdict\n",
        "\n",
        "# This class represents a directed graph using adjacency\n",
        "# list representation\n",
        "\n",
        "class Graph:\n",
        "    def __init__ (self, vertices):\n",
        "\n",
        "        # Ho. of vertices\n",
        "        self.V = vertices\n",
        "\n",
        "        # default dictionary to store graph\n",
        "        self.graph = defaultdict(list)\n",
        "\n",
        "    # function to add an edge to graph\n",
        "    def addEdge(self,u,v):\n",
        "        self.graph[u]. append(v)\n",
        "\n",
        "\n",
        "    # A function to perform a Depth-Linited search\n",
        "    # from given source \"src’\n",
        "    def DLS (self, src, target, maxDepth):\n",
        "\n",
        "        if src == target : return True\n",
        "\n",
        "        # IF reached the maximum depth, stop recursing.\n",
        "        if maxDepth <= 0 : return False\n",
        "\n",
        "        # Recur for all the vertices adjacent to this vertex\n",
        "        for i in self.graph[src]:\n",
        "            if (self.DLS(i, target, maxDepth-1)):\n",
        "                return True\n",
        "        return False\n",
        "\n",
        "    # TODFS to search if target is reachable from v.\n",
        "    # It uses recursive DLS()\n",
        "    def IDDFS(self, src, target, maxDepth):\n",
        "\n",
        "        # Repeatedly depth-linit search till the\n",
        "        # maximum depth\n",
        "        for i in range(maxDepth):\n",
        "            if (self.DLS(src, target, i)):\n",
        "                return True\n",
        "        return False\n",
        "\n",
        "# Create a graph given in the above diagram\n",
        "g = Graph (7);\n",
        "g.addEdge(0, 1)\n",
        "g.addEdge(0, 2)\n",
        "g.addEdge(0, 4)\n",
        "g.addEdge(1, 3)\n",
        "g.addEdge(1, 5)\n",
        "g.addEdge(2, 6)\n",
        "\n",
        "target = 6; maxDepth = 3; src = 0\n",
        "\n",
        "if g.IDDFS(src, target, maxDepth) == True:\n",
        "    print (\"Target is reachable from source \" +\n",
        "           \"within max depth\")\n",
        "else :\n",
        "    print (\"Target is NOT reachable from source \" +\n",
        "           \"within max depth\")"
      ],
      "metadata": {
        "colab": {
          "base_uri": "https://localhost:8080/"
        },
        "id": "D819j-lM2OJw",
        "outputId": "f66da389-d4fd-4917-ebe6-39b3011e1305"
      },
      "execution_count": 9,
      "outputs": [
        {
          "output_type": "stream",
          "name": "stdout",
          "text": [
            "Target is reachable from source within max depth\n"
          ]
        }
      ]
    },
    {
      "cell_type": "markdown",
      "source": [
        "5. Bidirectional Search"
      ],
      "metadata": {
        "id": "AWXhAAp2EuAT"
      }
    },
    {
      "cell_type": "code",
      "source": [
        "class adjacent_Node:\n",
        "\t\n",
        "\tdef __init__(self, v):\n",
        "\t\t\n",
        "\t\tself.vertex = v\n",
        "\t\tself.next = None\n",
        "\n",
        "\n",
        "class bidirectional_Search:\n",
        "\t\n",
        "\tdef __init__(self, vertices):\n",
        "\t\t\n",
        "\t\tself.vertices = vertices\n",
        "\t\tself.graph = [None] * self.vertices\n",
        "\t\t\n",
        "\t\tself.src_queue = list()\n",
        "\t\tself.dest_queue = list()\n",
        "\t\t\n",
        "\t\t\n",
        "\t\tself.src_visited = [False] * self.vertices\n",
        "\t\tself.dest_visited = [False] * self.vertices\n",
        "\t\t\n",
        "\t\t\n",
        "\t\tself.src_parent = [None] * self.vertices\n",
        "\t\tself.dest_parent = [None] * self.vertices\n",
        "\t\t\n",
        "\t\n",
        "\tdef AddEdge(self, src, dest):\n",
        "\t\t\n",
        "\t\tnode = adjacent_Node(dest)\n",
        "\t\tnode.next = self.graph[src]\n",
        "\t\tself.graph[src] = node\n",
        "\n",
        "\t\tnode = adjacent_Node(src)\n",
        "\t\tnode.next = self.graph[dest]\n",
        "\t\tself.graph[dest] = node\n",
        "\t\t\n",
        "\t\n",
        "\tdef breadth_fs(self, direction = 'forward'):\n",
        "\t\t\n",
        "\t\tif direction == 'forward':\n",
        "\t\t\n",
        "\t\t\tcurrent = self.src_queue.pop(0)\n",
        "\t\t\tconnected_node = self.graph[current]\n",
        "\t\t\t\n",
        "\t\t\twhile connected_node:\n",
        "\t\t\t\tvertex = connected_node.vertex\n",
        "\t\t\t\t\n",
        "\t\t\t\tif not self.src_visited[vertex]:\n",
        "\t\t\t\t\tself.src_queue.append(vertex)\n",
        "\t\t\t\t\tself.src_visited[vertex] = True\n",
        "\t\t\t\t\tself.src_parent[vertex] = current\n",
        "\t\t\t\t\t\n",
        "\t\t\t\tconnected_node = connected_node.next\n",
        "\t\telse:\n",
        "\t\t\t\n",
        "\t\t\tcurrent = self.dest_queue.pop(0)\n",
        "\t\t\tconnected_node = self.graph[current]\n",
        "\t\t\t\n",
        "\t\t\twhile connected_node:\n",
        "\t\t\t\tvertex = connected_node.vertex\n",
        "\t\t\t\t\n",
        "\t\t\t\tif not self.dest_visited[vertex]:\n",
        "\t\t\t\t\tself.dest_queue.append(vertex)\n",
        "\t\t\t\t\tself.dest_visited[vertex] = True\n",
        "\t\t\t\t\tself.dest_parent[vertex] = current\n",
        "\t\t\t\t\t\n",
        "\t\t\t\tconnected_node = connected_node.next\n",
        "\t\t\t\t\n",
        "\t\n",
        "\tdef is_intersecting(self):\n",
        "\t\t\n",
        "\t\t#\n",
        "\t\tfor i in range(self.vertices):\n",
        "\t\t\tif (self.src_visited[i] and\n",
        "\t\t\t\tself.dest_visited[i]):\n",
        "\t\t\t\treturn i\n",
        "\t\t\t\t\n",
        "\t\treturn -1\n",
        "\n",
        "\t\n",
        "\tdef path_st(self, intersecting_node,\n",
        "\t\t\t\tsrc, dest):\n",
        "\t\t\t\t\t\t\n",
        "\t\n",
        "\t\tpath = list()\n",
        "\t\tpath.append(intersecting_node)\n",
        "\t\ti = intersecting_node\n",
        "\t\t\n",
        "\t\twhile i != src:\n",
        "\t\t\tpath.append(self.src_parent[i])\n",
        "\t\t\ti = self.src_parent[i]\n",
        "\t\t\t\n",
        "\t\tpath = path[::-1]\n",
        "\t\ti = intersecting_node\n",
        "\t\t\n",
        "\t\twhile i != dest:\n",
        "\t\t\tpath.append(self.dest_parent[i])\n",
        "\t\t\ti = self.dest_parent[i]\n",
        "\t\t\t\n",
        "\t\tprint(\"*****Path*****\")\n",
        "\t\tpath = list(map(str, path))\n",
        "\t\t\n",
        "\t\tprint(' '.join(path))\n",
        "\t\n",
        "\tdef bidirectional_search(self, src, dest):\n",
        "\t\t\n",
        "\t\tself.src_queue.append(src)\n",
        "\t\tself.src_visited[src] = True\n",
        "\t\tself.src_parent[src] = -1\n",
        "\t\t\n",
        "\t\tself.dest_queue.append(dest)\n",
        "\t\tself.dest_visited[dest] = True\n",
        "\t\tself.dest_parent[dest] = -1\n",
        "\n",
        "\t\twhile self.src_queue and self.dest_queue:\n",
        "\t\t\t\n",
        "\t\t\n",
        "\t\t\tself.breadth_fs(direction = 'forward')\n",
        "\t\t\t\n",
        "\t\t\tself.breadth_fs(direction = 'backward')\n",
        "\t\t\t\t\n",
        "\t\t\tintersecting_node = self.is_intersecting()\n",
        "\t\t\t\n",
        "\t\t\tif intersecting_node != -1:\n",
        "\t\t\t\tprint(\"Path exists between {} and {}\".format(src, dest))\n",
        "\t\t\t\tprint(\"Intersection at : {}\".format(intersecting_node))\n",
        "\t\t\t\tself.path_st(intersecting_node,\n",
        "\t\t\t\t\t\t\t\tsrc, dest)\n",
        "\t\t\t\texit(0)\n",
        "\t\treturn -1\n",
        "\n",
        "\n",
        "if __name__ == '__main__':\n",
        "\t\n",
        "\tn = 15\n",
        "\t\n",
        "\tsrc = 0\n",
        "\t\n",
        "\tdest = 6\n",
        "\t\n",
        "\tgraph = bidirectional_Search(n)\n",
        "\tgraph.AddEdge(0, 4)\n",
        "\tgraph.AddEdge(1, 4)\n",
        "\tgraph.AddEdge(2, 5)\n",
        "\tgraph.AddEdge(3, 5)\n",
        "\tgraph.AddEdge(4, 6)\n",
        "\tgraph.AddEdge(5, 6)\n",
        "\tgraph.AddEdge(6, 7)\n",
        "\tgraph.AddEdge(7, 8)\n",
        "\tgraph.AddEdge(8, 9)\n",
        "\tgraph.AddEdge(8, 10)\n",
        "\tgraph.AddEdge(9, 11)\n",
        "\tgraph.AddEdge(9, 12)\n",
        "\tgraph.AddEdge(10, 13)\n",
        "\tgraph.AddEdge(10, 14)\n",
        "\t\n",
        "\tout = graph.bidirectional_search(src, dest)\n",
        "\t\n",
        "\tif out == -1:\n",
        "\t\tprint(\"No path between {} and {}\".format(src, dest))"
      ],
      "metadata": {
        "colab": {
          "base_uri": "https://localhost:8080/"
        },
        "id": "EM2luE2h2X7Y",
        "outputId": "1c3709db-2573-46c4-d0a8-c59745c25809"
      },
      "execution_count": 8,
      "outputs": [
        {
          "output_type": "stream",
          "name": "stdout",
          "text": [
            "Path exists between 0 and 6\n",
            "Intersection at : 4\n",
            "*****Path*****\n",
            "0 4 6\n",
            "Path exists between 0 and 6\n",
            "Intersection at : 4\n",
            "*****Path*****\n",
            "0 4 6\n",
            "Path exists between 0 and 6\n",
            "Intersection at : 4\n",
            "*****Path*****\n",
            "0 4 6\n",
            "Path exists between 0 and 6\n",
            "Intersection at : 0\n",
            "*****Path*****\n",
            "0 4 6\n",
            "Path exists between 0 and 6\n",
            "Intersection at : 0\n",
            "*****Path*****\n",
            "0 4 6\n",
            "Path exists between 0 and 6\n",
            "Intersection at : 0\n",
            "*****Path*****\n",
            "0 4 6\n",
            "Path exists between 0 and 6\n",
            "Intersection at : 0\n",
            "*****Path*****\n",
            "0 4 6\n",
            "Path exists between 0 and 6\n",
            "Intersection at : 0\n",
            "*****Path*****\n",
            "0 4 6\n",
            "Path exists between 0 and 6\n",
            "Intersection at : 0\n",
            "*****Path*****\n",
            "0 4 6\n",
            "Path exists between 0 and 6\n",
            "Intersection at : 0\n",
            "*****Path*****\n",
            "0 4 6\n",
            "Path exists between 0 and 6\n",
            "Intersection at : 0\n",
            "*****Path*****\n",
            "0 4 6\n",
            "Path exists between 0 and 6\n",
            "Intersection at : 0\n",
            "*****Path*****\n",
            "0 4 6\n",
            "Path exists between 0 and 6\n",
            "Intersection at : 0\n",
            "*****Path*****\n",
            "0 4 6\n",
            "Path exists between 0 and 6\n",
            "Intersection at : 0\n",
            "*****Path*****\n",
            "0 4 6\n",
            "Path exists between 0 and 6\n",
            "Intersection at : 0\n",
            "*****Path*****\n",
            "0 4 6\n",
            "No path between 0 and 6\n"
          ]
        }
      ]
    },
    {
      "cell_type": "markdown",
      "source": [
        "6. Tugas 1"
      ],
      "metadata": {
        "id": "0eOc9XDk2iSN"
      }
    },
    {
      "cell_type": "code",
      "source": [
        "def blind_search(start, goal, graph):\n",
        "    \"\"\"\n",
        "    Fungsi untuk menjalankan algoritma blind searching\n",
        "    dan mencari jalur terpendek antara simpul awal dan simpul tujuan.\n",
        "    Args:\n",
        "        start (str): Simpul awal.\n",
        "        goal (str): Simpul tujuan.\n",
        "        graph (dict): Struktur jaringan dalam bentuk dictionary.\n",
        "    Returns:\n",
        "        list: Jalur terpendek antara simpul awal dan simpul tujuan,\n",
        "        atau None jika tidak ditemukan jalur.\n",
        "    \"\"\"\n",
        "\n",
        "    # Inisialisasi antrian dan himpunan node yang telah dikunjungi\n",
        "    queue = [[start]]\n",
        "    visited = set()\n",
        "\n",
        "    # Lakukan pencarian jalur terpendek\n",
        "    while queue:\n",
        "        path = queue.pop(0)\n",
        "        node = path[-1]\n",
        "\n",
        "        # Jika simpul yang dikunjungi sama dengan simpul tujuan, kembalikan jalur\n",
        "        if node == goal:\n",
        "            return path\n",
        "        \n",
        "        # Tambahkan simpul yang bertetanggaan dengan simpul yang sedang dikunjungi ke antrian\n",
        "        # jika simpul tersebut belum dikunjungi sebelumnya\n",
        "        if node not in visited:\n",
        "            for neighbor in graph[node]:\n",
        "                new_path = list(path)\n",
        "                new_path.append(neighbor)\n",
        "                queue.append(new_path)\n",
        "                \n",
        "            visited.add(node)\n",
        "            \n",
        "    # Jika tidak ditemukan jalur, kembalikan None\n",
        "    return None\n",
        "\n",
        "# Contoh penggunaan program\n",
        "graph = {\n",
        "    0: [1, 3, 4],\n",
        "    1: [0, 2, 3],\n",
        "    2: [1, 3],\n",
        "    3: [0, 1, 2, 4],\n",
        "    4: [0, 3],\n",
        "}\n",
        "\n",
        "start = 0\n",
        "goal = 2\n",
        "\n",
        "result = blind_search(start, goal, graph)\n",
        "\n",
        "# Cek apakah ditemukan jalur atau tidak\n",
        "if result is None:\n",
        "    print(\"Tidak ada jalur yang ditemukan.\")\n",
        "else:\n",
        "    print(\"Jalur terpendek dari\", start, \"ke\", goal, \"adalah:\", result)"
      ],
      "metadata": {
        "colab": {
          "base_uri": "https://localhost:8080/"
        },
        "id": "76lHhAt-2lSI",
        "outputId": "e6e7e51f-a51a-41e3-9d5c-a57e89e91b1a"
      },
      "execution_count": 1,
      "outputs": [
        {
          "output_type": "stream",
          "name": "stdout",
          "text": [
            "Jalur terpendek dari 0 ke 2 adalah: [0, 1, 2]\n"
          ]
        }
      ]
    }
  ]
}